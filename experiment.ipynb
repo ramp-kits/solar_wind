{
 "cells": [
  {
   "cell_type": "raw",
   "metadata": {},
   "source": [
    "import pandas as pd\n",
    "\n",
    "data = pd.read_parquet(\"data/datasetFinal.parquet\")\n",
    "\n",
    "data[:\"2011\"].to_parquet(\"data/data_train.parquet\")\n",
    "\n",
    "data[\"2012\":].to_parquet(\"data/data_test.parquet\")"
   ]
  },
  {
   "cell_type": "code",
   "execution_count": 2,
   "metadata": {
    "collapsed": true
   },
   "outputs": [],
   "source": [
    "%matplotlib inline\n",
    "\n",
    "import pandas as pd"
   ]
  },
  {
   "cell_type": "code",
   "execution_count": 3,
   "metadata": {},
   "outputs": [],
   "source": [
    "from problem import get_train_data, get_test_data"
   ]
  },
  {
   "cell_type": "code",
   "execution_count": 4,
   "metadata": {
    "collapsed": true
   },
   "outputs": [],
   "source": [
    "data_train, y_train = get_train_data()"
   ]
  },
  {
   "cell_type": "code",
   "execution_count": 5,
   "metadata": {},
   "outputs": [],
   "source": [
    "data_test, y_test = get_test_data()"
   ]
  },
  {
   "cell_type": "code",
   "execution_count": 6,
   "metadata": {},
   "outputs": [
    {
     "data": {
      "text/html": [
       "<div>\n",
       "<style scoped>\n",
       "    .dataframe tbody tr th:only-of-type {\n",
       "        vertical-align: middle;\n",
       "    }\n",
       "\n",
       "    .dataframe tbody tr th {\n",
       "        vertical-align: top;\n",
       "    }\n",
       "\n",
       "    .dataframe thead th {\n",
       "        text-align: right;\n",
       "    }\n",
       "</style>\n",
       "<table border=\"1\" class=\"dataframe\">\n",
       "  <thead>\n",
       "    <tr style=\"text-align: right;\">\n",
       "      <th></th>\n",
       "      <th>B</th>\n",
       "      <th>Bx</th>\n",
       "      <th>Bx_rms</th>\n",
       "      <th>By</th>\n",
       "      <th>By_rms</th>\n",
       "      <th>Bz</th>\n",
       "      <th>Bz_rms</th>\n",
       "      <th>Na_nl</th>\n",
       "      <th>Np</th>\n",
       "      <th>Np_nl</th>\n",
       "      <th>V</th>\n",
       "      <th>Vth</th>\n",
       "      <th>Vx</th>\n",
       "      <th>Vy</th>\n",
       "      <th>Vz</th>\n",
       "    </tr>\n",
       "  </thead>\n",
       "  <tbody>\n",
       "    <tr>\n",
       "      <th>2012-01-01 00:02:15.437</th>\n",
       "      <td>4.552082</td>\n",
       "      <td>4.177710</td>\n",
       "      <td>0.068768</td>\n",
       "      <td>1.787000</td>\n",
       "      <td>0.082125</td>\n",
       "      <td>0.225686</td>\n",
       "      <td>0.101925</td>\n",
       "      <td>0.254140</td>\n",
       "      <td>8.268444</td>\n",
       "      <td>8.382256</td>\n",
       "      <td>387.711243</td>\n",
       "      <td>26.988857</td>\n",
       "      <td>-387.655457</td>\n",
       "      <td>4.568798</td>\n",
       "      <td>-4.732094</td>\n",
       "    </tr>\n",
       "    <tr>\n",
       "      <th>2012-01-01 00:03:50.534</th>\n",
       "      <td>4.514843</td>\n",
       "      <td>4.058956</td>\n",
       "      <td>0.096051</td>\n",
       "      <td>1.962848</td>\n",
       "      <td>0.171773</td>\n",
       "      <td>-0.200554</td>\n",
       "      <td>0.086608</td>\n",
       "      <td>0.263616</td>\n",
       "      <td>8.696366</td>\n",
       "      <td>8.643277</td>\n",
       "      <td>389.050659</td>\n",
       "      <td>27.832779</td>\n",
       "      <td>-389.005249</td>\n",
       "      <td>4.494625</td>\n",
       "      <td>-3.890085</td>\n",
       "    </tr>\n",
       "    <tr>\n",
       "      <th>2012-01-01 00:05:28.699</th>\n",
       "      <td>4.526614</td>\n",
       "      <td>3.874839</td>\n",
       "      <td>0.077527</td>\n",
       "      <td>2.290639</td>\n",
       "      <td>0.136029</td>\n",
       "      <td>-0.476395</td>\n",
       "      <td>0.205705</td>\n",
       "      <td>0.280836</td>\n",
       "      <td>8.680961</td>\n",
       "      <td>8.811712</td>\n",
       "      <td>388.295593</td>\n",
       "      <td>27.712719</td>\n",
       "      <td>-388.282410</td>\n",
       "      <td>1.948492</td>\n",
       "      <td>-2.536989</td>\n",
       "    </tr>\n",
       "    <tr>\n",
       "      <th>2012-01-01 00:07:08.397</th>\n",
       "      <td>4.371957</td>\n",
       "      <td>3.773911</td>\n",
       "      <td>0.064268</td>\n",
       "      <td>2.206526</td>\n",
       "      <td>0.114647</td>\n",
       "      <td>-0.043809</td>\n",
       "      <td>0.309385</td>\n",
       "      <td>0.279804</td>\n",
       "      <td>9.062189</td>\n",
       "      <td>8.985332</td>\n",
       "      <td>393.059357</td>\n",
       "      <td>26.852230</td>\n",
       "      <td>-393.055359</td>\n",
       "      <td>-1.636997</td>\n",
       "      <td>0.670536</td>\n",
       "    </tr>\n",
       "    <tr>\n",
       "      <th>2012-01-01 00:08:41.960</th>\n",
       "      <td>4.360072</td>\n",
       "      <td>3.678642</td>\n",
       "      <td>0.107723</td>\n",
       "      <td>2.333373</td>\n",
       "      <td>0.076418</td>\n",
       "      <td>-0.174732</td>\n",
       "      <td>0.146516</td>\n",
       "      <td>0.288527</td>\n",
       "      <td>9.204224</td>\n",
       "      <td>8.949383</td>\n",
       "      <td>391.061096</td>\n",
       "      <td>27.048674</td>\n",
       "      <td>-391.044861</td>\n",
       "      <td>-0.697493</td>\n",
       "      <td>3.495919</td>\n",
       "    </tr>\n",
       "  </tbody>\n",
       "</table>\n",
       "</div>"
      ],
      "text/plain": [
       "                                B        Bx    Bx_rms        By    By_rms  \\\n",
       "2012-01-01 00:02:15.437  4.552082  4.177710  0.068768  1.787000  0.082125   \n",
       "2012-01-01 00:03:50.534  4.514843  4.058956  0.096051  1.962848  0.171773   \n",
       "2012-01-01 00:05:28.699  4.526614  3.874839  0.077527  2.290639  0.136029   \n",
       "2012-01-01 00:07:08.397  4.371957  3.773911  0.064268  2.206526  0.114647   \n",
       "2012-01-01 00:08:41.960  4.360072  3.678642  0.107723  2.333373  0.076418   \n",
       "\n",
       "                               Bz    Bz_rms     Na_nl        Np     Np_nl  \\\n",
       "2012-01-01 00:02:15.437  0.225686  0.101925  0.254140  8.268444  8.382256   \n",
       "2012-01-01 00:03:50.534 -0.200554  0.086608  0.263616  8.696366  8.643277   \n",
       "2012-01-01 00:05:28.699 -0.476395  0.205705  0.280836  8.680961  8.811712   \n",
       "2012-01-01 00:07:08.397 -0.043809  0.309385  0.279804  9.062189  8.985332   \n",
       "2012-01-01 00:08:41.960 -0.174732  0.146516  0.288527  9.204224  8.949383   \n",
       "\n",
       "                                  V        Vth          Vx        Vy        Vz  \n",
       "2012-01-01 00:02:15.437  387.711243  26.988857 -387.655457  4.568798 -4.732094  \n",
       "2012-01-01 00:03:50.534  389.050659  27.832779 -389.005249  4.494625 -3.890085  \n",
       "2012-01-01 00:05:28.699  388.295593  27.712719 -388.282410  1.948492 -2.536989  \n",
       "2012-01-01 00:07:08.397  393.059357  26.852230 -393.055359 -1.636997  0.670536  \n",
       "2012-01-01 00:08:41.960  391.061096  27.048674 -391.044861 -0.697493  3.495919  "
      ]
     },
     "execution_count": 6,
     "metadata": {},
     "output_type": "execute_result"
    }
   ],
   "source": [
    "data_test.head()"
   ]
  },
  {
   "cell_type": "markdown",
   "metadata": {},
   "source": [
    "### Feature extraction"
   ]
  },
  {
   "cell_type": "code",
   "execution_count": 7,
   "metadata": {},
   "outputs": [],
   "source": [
    "import sys\n",
    "sys.path.insert(0, './submissions/starting_kit/')"
   ]
  },
  {
   "cell_type": "code",
   "execution_count": 8,
   "metadata": {
    "collapsed": true
   },
   "outputs": [],
   "source": [
    "from ts_feature_extractor import FeatureExtractor"
   ]
  },
  {
   "cell_type": "code",
   "execution_count": 9,
   "metadata": {
    "collapsed": true
   },
   "outputs": [],
   "source": [
    "fe = FeatureExtractor()"
   ]
  },
  {
   "cell_type": "code",
   "execution_count": 11,
   "metadata": {
    "scrolled": false
   },
   "outputs": [],
   "source": [
    "X_train_t = fe.transform(data_train)"
   ]
  },
  {
   "cell_type": "code",
   "execution_count": 12,
   "metadata": {},
   "outputs": [
    {
     "data": {
      "text/html": [
       "<div>\n",
       "<style scoped>\n",
       "    .dataframe tbody tr th:only-of-type {\n",
       "        vertical-align: middle;\n",
       "    }\n",
       "\n",
       "    .dataframe tbody tr th {\n",
       "        vertical-align: top;\n",
       "    }\n",
       "\n",
       "    .dataframe thead th {\n",
       "        text-align: right;\n",
       "    }\n",
       "</style>\n",
       "<table border=\"1\" class=\"dataframe\">\n",
       "  <thead>\n",
       "    <tr style=\"text-align: right;\">\n",
       "      <th></th>\n",
       "      <th>B</th>\n",
       "      <th>Bx</th>\n",
       "      <th>Bx_rms</th>\n",
       "      <th>By</th>\n",
       "      <th>By_rms</th>\n",
       "      <th>Bz</th>\n",
       "      <th>Bz_rms</th>\n",
       "      <th>Na_nl</th>\n",
       "      <th>Np</th>\n",
       "      <th>Np_nl</th>\n",
       "      <th>V</th>\n",
       "      <th>Vth</th>\n",
       "      <th>Vx</th>\n",
       "      <th>Vy</th>\n",
       "      <th>Vz</th>\n",
       "      <th>Beta</th>\n",
       "      <th>Beta_15min_std</th>\n",
       "      <th>Beta_2h_std</th>\n",
       "    </tr>\n",
       "  </thead>\n",
       "  <tbody>\n",
       "    <tr>\n",
       "      <th>1995-01-01 00:00:14.964</th>\n",
       "      <td>NaN</td>\n",
       "      <td>NaN</td>\n",
       "      <td>NaN</td>\n",
       "      <td>NaN</td>\n",
       "      <td>NaN</td>\n",
       "      <td>NaN</td>\n",
       "      <td>NaN</td>\n",
       "      <td>NaN</td>\n",
       "      <td>15.815715</td>\n",
       "      <td>NaN</td>\n",
       "      <td>315.138702</td>\n",
       "      <td>17.227602</td>\n",
       "      <td>-313.672272</td>\n",
       "      <td>-2.423905</td>\n",
       "      <td>30.269287</td>\n",
       "      <td>NaN</td>\n",
       "      <td>NaN</td>\n",
       "      <td>NaN</td>\n",
       "    </tr>\n",
       "    <tr>\n",
       "      <th>1995-01-01 00:02:13.075</th>\n",
       "      <td>4.338361</td>\n",
       "      <td>-0.615896</td>\n",
       "      <td>0.056815</td>\n",
       "      <td>3.758377</td>\n",
       "      <td>0.192089</td>\n",
       "      <td>-2.065511</td>\n",
       "      <td>0.103446</td>\n",
       "      <td>0.251492</td>\n",
       "      <td>15.815723</td>\n",
       "      <td>15.460986</td>\n",
       "      <td>315.137878</td>\n",
       "      <td>17.227423</td>\n",
       "      <td>-313.671448</td>\n",
       "      <td>-2.423704</td>\n",
       "      <td>30.269554</td>\n",
       "      <td>0.524187</td>\n",
       "      <td>NaN</td>\n",
       "      <td>NaN</td>\n",
       "    </tr>\n",
       "    <tr>\n",
       "      <th>1995-01-01 00:03:39.437</th>\n",
       "      <td>4.305846</td>\n",
       "      <td>-0.603615</td>\n",
       "      <td>0.043675</td>\n",
       "      <td>3.807391</td>\n",
       "      <td>0.047699</td>\n",
       "      <td>-1.917868</td>\n",
       "      <td>0.055348</td>\n",
       "      <td>0.249336</td>\n",
       "      <td>16.356546</td>\n",
       "      <td>15.809944</td>\n",
       "      <td>315.357605</td>\n",
       "      <td>17.241146</td>\n",
       "      <td>-313.916290</td>\n",
       "      <td>-2.127821</td>\n",
       "      <td>30.040876</td>\n",
       "      <td>0.551207</td>\n",
       "      <td>0.019106</td>\n",
       "      <td>0.019106</td>\n",
       "    </tr>\n",
       "    <tr>\n",
       "      <th>1995-01-01 00:06:22.964</th>\n",
       "      <td>4.349607</td>\n",
       "      <td>-0.810253</td>\n",
       "      <td>0.063657</td>\n",
       "      <td>3.884482</td>\n",
       "      <td>0.090541</td>\n",
       "      <td>-1.776413</td>\n",
       "      <td>0.085155</td>\n",
       "      <td>0.266075</td>\n",
       "      <td>16.335524</td>\n",
       "      <td>15.783771</td>\n",
       "      <td>314.416077</td>\n",
       "      <td>16.872213</td>\n",
       "      <td>-312.964386</td>\n",
       "      <td>-3.343558</td>\n",
       "      <td>29.978380</td>\n",
       "      <td>0.516636</td>\n",
       "      <td>0.018176</td>\n",
       "      <td>0.018176</td>\n",
       "    </tr>\n",
       "    <tr>\n",
       "      <th>1995-01-01 00:07:58.523</th>\n",
       "      <td>4.472741</td>\n",
       "      <td>-0.825270</td>\n",
       "      <td>0.130879</td>\n",
       "      <td>4.006791</td>\n",
       "      <td>0.054614</td>\n",
       "      <td>-1.805417</td>\n",
       "      <td>0.076011</td>\n",
       "      <td>0.271679</td>\n",
       "      <td>16.323238</td>\n",
       "      <td>15.685715</td>\n",
       "      <td>313.865875</td>\n",
       "      <td>16.656624</td>\n",
       "      <td>-312.408112</td>\n",
       "      <td>-4.053989</td>\n",
       "      <td>29.941858</td>\n",
       "      <td>0.475818</td>\n",
       "      <td>0.031187</td>\n",
       "      <td>0.031187</td>\n",
       "    </tr>\n",
       "  </tbody>\n",
       "</table>\n",
       "</div>"
      ],
      "text/plain": [
       "                                B        Bx    Bx_rms        By    By_rms  \\\n",
       "1995-01-01 00:00:14.964       NaN       NaN       NaN       NaN       NaN   \n",
       "1995-01-01 00:02:13.075  4.338361 -0.615896  0.056815  3.758377  0.192089   \n",
       "1995-01-01 00:03:39.437  4.305846 -0.603615  0.043675  3.807391  0.047699   \n",
       "1995-01-01 00:06:22.964  4.349607 -0.810253  0.063657  3.884482  0.090541   \n",
       "1995-01-01 00:07:58.523  4.472741 -0.825270  0.130879  4.006791  0.054614   \n",
       "\n",
       "                               Bz    Bz_rms     Na_nl         Np      Np_nl  \\\n",
       "1995-01-01 00:00:14.964       NaN       NaN       NaN  15.815715        NaN   \n",
       "1995-01-01 00:02:13.075 -2.065511  0.103446  0.251492  15.815723  15.460986   \n",
       "1995-01-01 00:03:39.437 -1.917868  0.055348  0.249336  16.356546  15.809944   \n",
       "1995-01-01 00:06:22.964 -1.776413  0.085155  0.266075  16.335524  15.783771   \n",
       "1995-01-01 00:07:58.523 -1.805417  0.076011  0.271679  16.323238  15.685715   \n",
       "\n",
       "                                  V        Vth          Vx        Vy  \\\n",
       "1995-01-01 00:00:14.964  315.138702  17.227602 -313.672272 -2.423905   \n",
       "1995-01-01 00:02:13.075  315.137878  17.227423 -313.671448 -2.423704   \n",
       "1995-01-01 00:03:39.437  315.357605  17.241146 -313.916290 -2.127821   \n",
       "1995-01-01 00:06:22.964  314.416077  16.872213 -312.964386 -3.343558   \n",
       "1995-01-01 00:07:58.523  313.865875  16.656624 -312.408112 -4.053989   \n",
       "\n",
       "                                Vz      Beta  Beta_15min_std  Beta_2h_std  \n",
       "1995-01-01 00:00:14.964  30.269287       NaN             NaN          NaN  \n",
       "1995-01-01 00:02:13.075  30.269554  0.524187             NaN          NaN  \n",
       "1995-01-01 00:03:39.437  30.040876  0.551207        0.019106     0.019106  \n",
       "1995-01-01 00:06:22.964  29.978380  0.516636        0.018176     0.018176  \n",
       "1995-01-01 00:07:58.523  29.941858  0.475818        0.031187     0.031187  "
      ]
     },
     "execution_count": 12,
     "metadata": {},
     "output_type": "execute_result"
    }
   ],
   "source": [
    "X_train_t.head()"
   ]
  },
  {
   "cell_type": "code",
   "execution_count": 13,
   "metadata": {},
   "outputs": [],
   "source": [
    "X_train_t.fillna(X_train_t.median(), inplace=True)"
   ]
  },
  {
   "cell_type": "markdown",
   "metadata": {},
   "source": [
    "### Trying model"
   ]
  },
  {
   "cell_type": "code",
   "execution_count": 14,
   "metadata": {
    "collapsed": true
   },
   "outputs": [],
   "source": [
    "from sklearn.ensemble import RandomForestClassifier\n",
    "from sklearn.metrics import classification_report, confusion_matrix"
   ]
  },
  {
   "cell_type": "code",
   "execution_count": 18,
   "metadata": {
    "collapsed": true
   },
   "outputs": [],
   "source": [
    "model = RandomForestClassifier(n_jobs=-1)"
   ]
  },
  {
   "cell_type": "code",
   "execution_count": 21,
   "metadata": {},
   "outputs": [
    {
     "data": {
      "text/plain": [
       "RandomForestClassifier(bootstrap=True, class_weight=None, criterion='gini',\n",
       "            max_depth=None, max_features='auto', max_leaf_nodes=None,\n",
       "            min_impurity_decrease=0.0, min_impurity_split=None,\n",
       "            min_samples_leaf=1, min_samples_split=2,\n",
       "            min_weight_fraction_leaf=0.0, n_estimators=10, n_jobs=1,\n",
       "            oob_score=False, random_state=None, verbose=0,\n",
       "            warm_start=False)"
      ]
     },
     "execution_count": 21,
     "metadata": {},
     "output_type": "execute_result"
    }
   ],
   "source": [
    "model.fit(X_train_t, y_train)"
   ]
  },
  {
   "cell_type": "code",
   "execution_count": 22,
   "metadata": {},
   "outputs": [
    {
     "data": {
      "text/plain": [
       "0.99909845019120402"
      ]
     },
     "execution_count": 22,
     "metadata": {},
     "output_type": "execute_result"
    }
   ],
   "source": [
    "model.score(X_train_t, y_train)"
   ]
  },
  {
   "cell_type": "code",
   "execution_count": 23,
   "metadata": {
    "collapsed": true
   },
   "outputs": [],
   "source": [
    "y_pred = model.predict(X_train_t)"
   ]
  },
  {
   "cell_type": "code",
   "execution_count": 26,
   "metadata": {},
   "outputs": [
    {
     "name": "stdout",
     "output_type": "stream",
     "text": [
      "             precision    recall  f1-score   support\n",
      "\n",
      "          0       1.00      1.00      1.00   5208976\n",
      "          1       1.00      0.97      0.98     56921\n",
      "          2       1.00      0.98      0.99    195809\n",
      "\n",
      "avg / total       1.00      1.00      1.00   5461706\n",
      "\n"
     ]
    }
   ],
   "source": [
    "print(classification_report(y_train, y_pred))"
   ]
  },
  {
   "cell_type": "code",
   "execution_count": 27,
   "metadata": {},
   "outputs": [
    {
     "name": "stdout",
     "output_type": "stream",
     "text": [
      "[[5208968       5       3]\n",
      " [   1920   54996       5]\n",
      " [   2984       7  192818]]\n"
     ]
    }
   ],
   "source": [
    "print(confusion_matrix(y_train, y_pred))"
   ]
  },
  {
   "cell_type": "markdown",
   "metadata": {},
   "source": [
    "On test data:"
   ]
  },
  {
   "cell_type": "code",
   "execution_count": 17,
   "metadata": {
    "scrolled": false
   },
   "outputs": [],
   "source": [
    "X_test_t = fe.transform(data_test)"
   ]
  },
  {
   "cell_type": "code",
   "execution_count": 18,
   "metadata": {
    "collapsed": true
   },
   "outputs": [],
   "source": [
    "X_test_t.fillna(X_test_t.median(), inplace=True)"
   ]
  },
  {
   "cell_type": "code",
   "execution_count": 33,
   "metadata": {
    "collapsed": true
   },
   "outputs": [],
   "source": [
    "y_pred_test = model.predict(X_test_t)"
   ]
  },
  {
   "cell_type": "code",
   "execution_count": 34,
   "metadata": {},
   "outputs": [
    {
     "name": "stdout",
     "output_type": "stream",
     "text": [
      "[[1652309    1022   13281]\n",
      " [  22376     655     235]\n",
      " [  57005     279   17967]]\n"
     ]
    }
   ],
   "source": [
    "print(confusion_matrix(y_test, y_pred_test))"
   ]
  },
  {
   "cell_type": "code",
   "execution_count": 35,
   "metadata": {
    "scrolled": true
   },
   "outputs": [
    {
     "name": "stdout",
     "output_type": "stream",
     "text": [
      "             precision    recall  f1-score   support\n",
      "\n",
      "          0       0.95      0.99      0.97   1666612\n",
      "          1       0.33      0.03      0.05     23266\n",
      "          2       0.57      0.24      0.34     75251\n",
      "\n",
      "avg / total       0.93      0.95      0.93   1765129\n",
      "\n"
     ]
    }
   ],
   "source": [
    "print(classification_report(y_test, y_pred_test))"
   ]
  },
  {
   "cell_type": "markdown",
   "metadata": {},
   "source": [
    "Trying a balancing technique:"
   ]
  },
  {
   "cell_type": "code",
   "execution_count": 19,
   "metadata": {
    "collapsed": true
   },
   "outputs": [],
   "source": [
    "from sklearn.tree import DecisionTreeClassifier"
   ]
  },
  {
   "cell_type": "code",
   "execution_count": 20,
   "metadata": {
    "collapsed": true
   },
   "outputs": [],
   "source": [
    "from imblearn.ensemble import BalancedBaggingClassifier"
   ]
  },
  {
   "cell_type": "code",
   "execution_count": 40,
   "metadata": {
    "collapsed": true
   },
   "outputs": [],
   "source": [
    "bbc = BalancedBaggingClassifier(base_estimator=DecisionTreeClassifier(max_features='auto'),\n",
    "                                ratio='auto',\n",
    "                                replacement=False,\n",
    "                                random_state=0)"
   ]
  },
  {
   "cell_type": "code",
   "execution_count": 41,
   "metadata": {},
   "outputs": [
    {
     "data": {
      "text/plain": [
       "BalancedBaggingClassifier(base_estimator=DecisionTreeClassifier(class_weight=None, criterion='gini', max_depth=None,\n",
       "            max_features='auto', max_leaf_nodes=None,\n",
       "            min_impurity_decrease=0.0, min_impurity_split=None,\n",
       "            min_samples_leaf=1, min_samples_split=2,\n",
       "            min_weight_fraction_leaf=0.0, presort=False, random_state=None,\n",
       "            splitter='best'),\n",
       "             bootstrap=True, bootstrap_features=False, max_features=1.0,\n",
       "             max_samples=1.0, n_estimators=10, n_jobs=1, oob_score=False,\n",
       "             random_state=0, ratio='auto', replacement=False, verbose=0,\n",
       "             warm_start=False)"
      ]
     },
     "execution_count": 41,
     "metadata": {},
     "output_type": "execute_result"
    }
   ],
   "source": [
    "bbc.fit(X_train_t, y_train)"
   ]
  },
  {
   "cell_type": "code",
   "execution_count": 42,
   "metadata": {
    "collapsed": true
   },
   "outputs": [],
   "source": [
    "y_pred_bcc = bbc.predict(X_train_t)"
   ]
  },
  {
   "cell_type": "code",
   "execution_count": 43,
   "metadata": {},
   "outputs": [
    {
     "name": "stdout",
     "output_type": "stream",
     "text": [
      "             precision    recall  f1-score   support\n",
      "\n",
      "          0       1.00      0.91      0.95   5208976\n",
      "          1       0.24      1.00      0.39     56921\n",
      "          2       0.41      0.96      0.58    195809\n",
      "\n",
      "avg / total       0.97      0.92      0.94   5461706\n",
      "\n"
     ]
    }
   ],
   "source": [
    "print(classification_report(y_train, y_pred_bcc))"
   ]
  },
  {
   "cell_type": "code",
   "execution_count": 44,
   "metadata": {},
   "outputs": [
    {
     "name": "stdout",
     "output_type": "stream",
     "text": [
      "[[4761593  178247  269136]\n",
      " [    133   56777      11]\n",
      " [   5467    1710  188632]]\n"
     ]
    }
   ],
   "source": [
    "print(confusion_matrix(y_train, y_pred_bcc))"
   ]
  },
  {
   "cell_type": "code",
   "execution_count": 45,
   "metadata": {
    "collapsed": true
   },
   "outputs": [],
   "source": [
    "y_pred_bbc_test = bbc.predict(X_test_t)"
   ]
  },
  {
   "cell_type": "code",
   "execution_count": 46,
   "metadata": {},
   "outputs": [
    {
     "name": "stdout",
     "output_type": "stream",
     "text": [
      "[[1477303   62576  126733]\n",
      " [  11110    9525    2631]\n",
      " [  22960    3026   49265]]\n"
     ]
    }
   ],
   "source": [
    "print(confusion_matrix(y_test, y_pred_bbc_test))"
   ]
  },
  {
   "cell_type": "code",
   "execution_count": 47,
   "metadata": {
    "scrolled": true
   },
   "outputs": [
    {
     "name": "stdout",
     "output_type": "stream",
     "text": [
      "             precision    recall  f1-score   support\n",
      "\n",
      "          0       0.98      0.89      0.93   1666612\n",
      "          1       0.13      0.41      0.19     23266\n",
      "          2       0.28      0.65      0.39     75251\n",
      "\n",
      "avg / total       0.94      0.87      0.90   1765129\n",
      "\n"
     ]
    }
   ],
   "source": [
    "print(classification_report(y_test, y_pred_bbc_test))"
   ]
  },
  {
   "cell_type": "markdown",
   "metadata": {},
   "source": [
    "The above could do "
   ]
  },
  {
   "cell_type": "code",
   "execution_count": null,
   "metadata": {},
   "outputs": [],
   "source": []
  },
  {
   "cell_type": "code",
   "execution_count": 21,
   "metadata": {},
   "outputs": [],
   "source": [
    "from collections import Counter"
   ]
  },
  {
   "cell_type": "code",
   "execution_count": 24,
   "metadata": {},
   "outputs": [],
   "source": [
    "def determine_ratio(y):\n",
    "    target_stats = Counter(y)\n",
    "    max_ = max(target_stats.values())\n",
    "    ratio = min(target_stats.values()) / max(target_stats.values()) * 5\n",
    "    \n",
    "    return {key: int(value * ratio)\n",
    "            for key, value in target_stats.items() if value == max_}"
   ]
  },
  {
   "cell_type": "code",
   "execution_count": 26,
   "metadata": {},
   "outputs": [
    {
     "data": {
      "text/plain": [
       "Counter({0: 5208976, 1: 56921, 2: 195809})"
      ]
     },
     "execution_count": 26,
     "metadata": {},
     "output_type": "execute_result"
    }
   ],
   "source": [
    "Counter(y_train)"
   ]
  },
  {
   "cell_type": "code",
   "execution_count": 25,
   "metadata": {},
   "outputs": [
    {
     "data": {
      "text/plain": [
       "{0: 284605}"
      ]
     },
     "execution_count": 25,
     "metadata": {},
     "output_type": "execute_result"
    }
   ],
   "source": [
    "determine_ratio(y_train)"
   ]
  },
  {
   "cell_type": "code",
   "execution_count": 27,
   "metadata": {},
   "outputs": [],
   "source": [
    "bbc2 = BalancedBaggingClassifier(base_estimator=DecisionTreeClassifier(max_features='auto'),\n",
    "                                 ratio=determine_ratio, random_state=0)"
   ]
  },
  {
   "cell_type": "code",
   "execution_count": 28,
   "metadata": {},
   "outputs": [
    {
     "data": {
      "text/plain": [
       "BalancedBaggingClassifier(base_estimator=DecisionTreeClassifier(class_weight=None, criterion='gini', max_depth=None,\n",
       "            max_features='auto', max_leaf_nodes=None,\n",
       "            min_impurity_decrease=0.0, min_impurity_split=None,\n",
       "            min_samples_leaf=1, min_samples_split=2,\n",
       "            min_weight_fraction_leaf=0.0, presort=False, random_state=None,\n",
       "            splitter='best'),\n",
       "             bootstrap=True, bootstrap_features=False, max_features=1.0,\n",
       "             max_samples=1.0, n_estimators=10, n_jobs=1, oob_score=False,\n",
       "             random_state=0,\n",
       "             ratio=<function determine_ratio at 0x7f5122eefae8>,\n",
       "             replacement=False, verbose=0, warm_start=False)"
      ]
     },
     "execution_count": 28,
     "metadata": {},
     "output_type": "execute_result"
    }
   ],
   "source": [
    "bbc2.fit(X_train_t, y_train)"
   ]
  },
  {
   "cell_type": "code",
   "execution_count": 29,
   "metadata": {
    "collapsed": true
   },
   "outputs": [],
   "source": [
    "y_pred_bcc = bbc2.predict(X_train_t)"
   ]
  },
  {
   "cell_type": "code",
   "execution_count": 30,
   "metadata": {},
   "outputs": [
    {
     "name": "stdout",
     "output_type": "stream",
     "text": [
      "             precision    recall  f1-score   support\n",
      "\n",
      "          0       1.00      0.98      0.99   5208976\n",
      "          1       0.70      0.99      0.82     56921\n",
      "          2       0.74      1.00      0.85    195809\n",
      "\n",
      "avg / total       0.99      0.98      0.98   5461706\n",
      "\n"
     ]
    }
   ],
   "source": [
    "print(classification_report(y_train, y_pred_bcc))"
   ]
  },
  {
   "cell_type": "code",
   "execution_count": 31,
   "metadata": {},
   "outputs": [
    {
     "name": "stdout",
     "output_type": "stream",
     "text": [
      "[[5116980   24393   67603]\n",
      " [    423   56486      12]\n",
      " [    692      34  195083]]\n"
     ]
    }
   ],
   "source": [
    "print(confusion_matrix(y_train, y_pred_bcc))"
   ]
  },
  {
   "cell_type": "code",
   "execution_count": 33,
   "metadata": {
    "collapsed": true
   },
   "outputs": [],
   "source": [
    "y_pred_bbc_test = bbc2.predict(X_test_t)"
   ]
  },
  {
   "cell_type": "code",
   "execution_count": 34,
   "metadata": {},
   "outputs": [
    {
     "name": "stdout",
     "output_type": "stream",
     "text": [
      "[[1590599   12546   63467]\n",
      " [  17221    4397    1648]\n",
      " [  37136    1393   36722]]\n"
     ]
    }
   ],
   "source": [
    "print(confusion_matrix(y_test, y_pred_bbc_test))"
   ]
  },
  {
   "cell_type": "code",
   "execution_count": 46,
   "metadata": {},
   "outputs": [
    {
     "name": "stdout",
     "output_type": "stream",
     "text": [
      "[[1477303   62576  126733]\n",
      " [  11110    9525    2631]\n",
      " [  22960    3026   49265]]\n"
     ]
    }
   ],
   "source": [
    "print(confusion_matrix(y_test, y_pred_bbc_test))"
   ]
  },
  {
   "cell_type": "code",
   "execution_count": 35,
   "metadata": {},
   "outputs": [
    {
     "name": "stdout",
     "output_type": "stream",
     "text": [
      "             precision    recall  f1-score   support\n",
      "\n",
      "          0       0.97      0.95      0.96   1666612\n",
      "          1       0.24      0.19      0.21     23266\n",
      "          2       0.36      0.49      0.41     75251\n",
      "\n",
      "avg / total       0.93      0.92      0.93   1765129\n",
      "\n"
     ]
    }
   ],
   "source": [
    "print(classification_report(y_test, y_pred_bbc_test))"
   ]
  },
  {
   "cell_type": "markdown",
   "metadata": {},
   "source": [
    "So the precision is a bit better, but the recall worse"
   ]
  },
  {
   "cell_type": "markdown",
   "metadata": {},
   "source": [
    "### Cross-validation"
   ]
  },
  {
   "cell_type": "markdown",
   "metadata": {},
   "source": [
    "For now we can use the `KFold` cross-validation method of sklearn:"
   ]
  },
  {
   "cell_type": "code",
   "execution_count": 48,
   "metadata": {},
   "outputs": [],
   "source": [
    "from sklearn.model_selection import KFold"
   ]
  },
  {
   "cell_type": "code",
   "execution_count": 53,
   "metadata": {},
   "outputs": [],
   "source": [
    "cv = KFold(n_splits=10)"
   ]
  },
  {
   "cell_type": "code",
   "execution_count": null,
   "metadata": {},
   "outputs": [],
   "source": []
  },
  {
   "cell_type": "code",
   "execution_count": null,
   "metadata": {},
   "outputs": [],
   "source": []
  },
  {
   "cell_type": "code",
   "execution_count": null,
   "metadata": {},
   "outputs": [],
   "source": []
  }
 ],
 "metadata": {
  "kernelspec": {
   "display_name": "Python 3",
   "language": "python",
   "name": "python3"
  },
  "language_info": {
   "codemirror_mode": {
    "name": "ipython",
    "version": 3
   },
   "file_extension": ".py",
   "mimetype": "text/x-python",
   "name": "python",
   "nbconvert_exporter": "python",
   "pygments_lexer": "ipython3",
   "version": "3.5.4"
  },
  "nav_menu": {},
  "toc": {
   "navigate_menu": true,
   "number_sections": true,
   "sideBar": true,
   "threshold": 6,
   "toc_cell": false,
   "toc_section_display": "block",
   "toc_window_display": false
  }
 },
 "nbformat": 4,
 "nbformat_minor": 2
}
